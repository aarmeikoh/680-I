{
 "cells": [
  {
   "cell_type": "code",
   "execution_count": 2,
   "id": "866029ad",
   "metadata": {},
   "outputs": [],
   "source": [
    "import pandas as pd\n",
    "import matplotlib.pyplot as plt"
   ]
  },
  {
   "cell_type": "code",
   "execution_count": 3,
   "id": "72ae416c",
   "metadata": {},
   "outputs": [],
   "source": [
    "masks = pd.read_csv('Mask_Mandates.csv', parse_dates= ['date'])"
   ]
  },
  {
   "cell_type": "code",
   "execution_count": 4,
   "id": "56477d15",
   "metadata": {},
   "outputs": [
    {
     "data": {
      "text/html": [
       "<div>\n",
       "<style scoped>\n",
       "    .dataframe tbody tr th:only-of-type {\n",
       "        vertical-align: middle;\n",
       "    }\n",
       "\n",
       "    .dataframe tbody tr th {\n",
       "        vertical-align: top;\n",
       "    }\n",
       "\n",
       "    .dataframe thead th {\n",
       "        text-align: right;\n",
       "    }\n",
       "</style>\n",
       "<table border=\"1\" class=\"dataframe\">\n",
       "  <thead>\n",
       "    <tr style=\"text-align: right;\">\n",
       "      <th></th>\n",
       "      <th>State_Tribe_Territory</th>\n",
       "      <th>County_Name</th>\n",
       "      <th>FIPS_State</th>\n",
       "      <th>FIPS_County</th>\n",
       "      <th>date</th>\n",
       "      <th>order_code</th>\n",
       "      <th>Face_Masks_Required_in_Public</th>\n",
       "    </tr>\n",
       "  </thead>\n",
       "  <tbody>\n",
       "    <tr>\n",
       "      <th>0</th>\n",
       "      <td>AL</td>\n",
       "      <td>Autauga County</td>\n",
       "      <td>1</td>\n",
       "      <td>1</td>\n",
       "      <td>2020-04-10</td>\n",
       "      <td>2</td>\n",
       "      <td>NaN</td>\n",
       "    </tr>\n",
       "    <tr>\n",
       "      <th>1</th>\n",
       "      <td>AL</td>\n",
       "      <td>Autauga County</td>\n",
       "      <td>1</td>\n",
       "      <td>1</td>\n",
       "      <td>2020-04-11</td>\n",
       "      <td>2</td>\n",
       "      <td>NaN</td>\n",
       "    </tr>\n",
       "    <tr>\n",
       "      <th>2</th>\n",
       "      <td>AL</td>\n",
       "      <td>Autauga County</td>\n",
       "      <td>1</td>\n",
       "      <td>1</td>\n",
       "      <td>2020-04-12</td>\n",
       "      <td>2</td>\n",
       "      <td>NaN</td>\n",
       "    </tr>\n",
       "    <tr>\n",
       "      <th>3</th>\n",
       "      <td>AL</td>\n",
       "      <td>Autauga County</td>\n",
       "      <td>1</td>\n",
       "      <td>1</td>\n",
       "      <td>2020-04-13</td>\n",
       "      <td>2</td>\n",
       "      <td>NaN</td>\n",
       "    </tr>\n",
       "    <tr>\n",
       "      <th>4</th>\n",
       "      <td>AL</td>\n",
       "      <td>Autauga County</td>\n",
       "      <td>1</td>\n",
       "      <td>1</td>\n",
       "      <td>2020-04-14</td>\n",
       "      <td>2</td>\n",
       "      <td>NaN</td>\n",
       "    </tr>\n",
       "  </tbody>\n",
       "</table>\n",
       "</div>"
      ],
      "text/plain": [
       "  State_Tribe_Territory     County_Name  FIPS_State  FIPS_County       date  \\\n",
       "0                    AL  Autauga County           1            1 2020-04-10   \n",
       "1                    AL  Autauga County           1            1 2020-04-11   \n",
       "2                    AL  Autauga County           1            1 2020-04-12   \n",
       "3                    AL  Autauga County           1            1 2020-04-13   \n",
       "4                    AL  Autauga County           1            1 2020-04-14   \n",
       "\n",
       "   order_code Face_Masks_Required_in_Public  \n",
       "0           2                           NaN  \n",
       "1           2                           NaN  \n",
       "2           2                           NaN  \n",
       "3           2                           NaN  \n",
       "4           2                           NaN  "
      ]
     },
     "execution_count": 4,
     "metadata": {},
     "output_type": "execute_result"
    }
   ],
   "source": [
    "masks = masks.drop(['Source_of_Action', 'URL', 'Citation'], axis= 1)\n",
    "masks.head()"
   ]
  },
  {
   "cell_type": "code",
   "execution_count": 5,
   "id": "9502641f",
   "metadata": {},
   "outputs": [
    {
     "data": {
      "text/plain": [
       "(         FIPS_State   FIPS_County    order_code\n",
       " count  1.593869e+06  1.593869e+06  1.593869e+06\n",
       " mean   3.143582e+01  1.027046e+02  1.539415e+00\n",
       " std    1.640763e+01  1.065462e+02  4.984442e-01\n",
       " min    1.000000e+00  1.000000e+00  1.000000e+00\n",
       " 25%    1.900000e+01  3.500000e+01  1.000000e+00\n",
       " 50%    3.000000e+01  7.900000e+01  2.000000e+00\n",
       " 75%    4.600000e+01  1.330000e+02  2.000000e+00\n",
       " max    7.800000e+01  8.400000e+02  2.000000e+00,\n",
       "        State_Tribe_Territory        County_Name Face_Masks_Required_in_Public\n",
       " count                1593869            1593869                        987555\n",
       " unique                    56               1968                             2\n",
       " top                       TX  Washington County                           Yes\n",
       " freq                  125222              14790                        734112)"
      ]
     },
     "execution_count": 5,
     "metadata": {},
     "output_type": "execute_result"
    }
   ],
   "source": [
    "masks.describe(), masks.describe(include='O')"
   ]
  },
  {
   "cell_type": "code",
   "execution_count": 6,
   "id": "dcc47d82",
   "metadata": {},
   "outputs": [
    {
     "data": {
      "text/plain": [
       "array([[<AxesSubplot:title={'center':'FIPS_State'}>,\n",
       "        <AxesSubplot:title={'center':'FIPS_County'}>],\n",
       "       [<AxesSubplot:title={'center':'date'}>,\n",
       "        <AxesSubplot:title={'center':'order_code'}>]], dtype=object)"
      ]
     },
     "execution_count": 6,
     "metadata": {},
     "output_type": "execute_result"
    },
    {
     "data": {
      "image/png": "[encoded data removed]",
      "text/plain": [
       "<Figure size 432x288 with 4 Axes>"
      ]
     },
     "metadata": {
      "needs_background": "light"
     },
     "output_type": "display_data"
    }
   ],
   "source": [
    "masks.hist()"
   ]
  },
  {
   "cell_type": "code",
   "execution_count": 7,
   "id": "629be0f1",
   "metadata": {},
   "outputs": [
    {
     "data": {
      "text/plain": [
       "<AxesSubplot:>"
      ]
     },
     "execution_count": 7,
     "metadata": {},
     "output_type": "execute_result"
    },
    {
     "data": {
      "image/png": "[encoded data removed]",
      "text/plain": [
       "<Figure size 432x288 with 1 Axes>"
      ]
     },
     "metadata": {
      "needs_background": "light"
     },
     "output_type": "display_data"
    }
   ],
   "source": [
    "masks['Face_Masks_Required_in_Public'].value_counts().plot(kind='bar')"
   ]
  },
  {
   "cell_type": "code",
   "execution_count": 8,
   "id": "719c38a2",
   "metadata": {},
   "outputs": [
    {
     "data": {
      "text/plain": [
       "array([[<AxesSubplot:title={'center':'FIPS_State'}>,\n",
       "        <AxesSubplot:title={'center':'FIPS_County'}>],\n",
       "       [<AxesSubplot:title={'center':'date'}>,\n",
       "        <AxesSubplot:title={'center':'order_code'}>]], dtype=object)"
      ]
     },
     "execution_count": 8,
     "metadata": {},
     "output_type": "execute_result"
    },
    {
     "data": {
      "image/png": "[encoded data removed]",
      "text/plain": [
       "<Figure size 432x288 with 4 Axes>"
      ]
     },
     "metadata": {
      "needs_background": "light"
     },
     "output_type": "display_data"
    }
   ],
   "source": [
    "masks[masks['Face_Masks_Required_in_Public'].isna() == True].hist()\n"
   ]
  },
  {
   "cell_type": "code",
   "execution_count": 9,
   "id": "92191b1e",
   "metadata": {},
   "outputs": [
    {
     "data": {
      "text/plain": [
       "<matplotlib.legend.Legend at 0x19be0018f40>"
      ]
     },
     "execution_count": 9,
     "metadata": {},
     "output_type": "execute_result"
    },
    {
     "data": {
      "image/png": "[encoded data removed]",
      "text/plain": [
       "<Figure size 432x288 with 1 Axes>"
      ]
     },
     "metadata": {
      "needs_background": "light"
     },
     "output_type": "display_data"
    }
   ],
   "source": [
    "masks[masks['order_code'] == 1]['Face_Masks_Required_in_Public'].value_counts().plot(kind='bar', color= 'r', label= 'yes', position= .1)\n",
    "masks[masks['order_code'] == 2]['Face_Masks_Required_in_Public'].value_counts().plot(kind='bar', label= 'no', position= .9)\n",
    "plt.legend()"
   ]
  },
  {
   "cell_type": "code",
   "execution_count": 10,
   "id": "39683b3f",
   "metadata": {},
   "outputs": [],
   "source": [
    "masks['order_code'] = masks['order_code'].replace(2,0)\n",
    "masks.rename(columns={'order_code': 'mask_order'}, inplace= True)"
   ]
  },
  {
   "cell_type": "code",
   "execution_count": 11,
   "id": "46075abb",
   "metadata": {},
   "outputs": [
    {
     "data": {
      "text/plain": [
       "(State_Tribe_Territory                 0\n",
       " County_Name                           0\n",
       " FIPS_State                            0\n",
       " FIPS_County                           0\n",
       " date                                  0\n",
       " mask_order                            0\n",
       " Face_Masks_Required_in_Public    606314\n",
       " dtype: int64,\n",
       " 1593869)"
      ]
     },
     "execution_count": 11,
     "metadata": {},
     "output_type": "execute_result"
    }
   ],
   "source": [
    "masks.isna().sum(), len(masks)"
   ]
  },
  {
   "cell_type": "code",
   "execution_count": 12,
   "id": "d3db9d7a",
   "metadata": {},
   "outputs": [
    {
     "data": {
      "text/html": [
       "<div>\n",
       "<style scoped>\n",
       "    .dataframe tbody tr th:only-of-type {\n",
       "        vertical-align: middle;\n",
       "    }\n",
       "\n",
       "    .dataframe tbody tr th {\n",
       "        vertical-align: top;\n",
       "    }\n",
       "\n",
       "    .dataframe thead th {\n",
       "        text-align: right;\n",
       "    }\n",
       "</style>\n",
       "<table border=\"1\" class=\"dataframe\">\n",
       "  <thead>\n",
       "    <tr style=\"text-align: right;\">\n",
       "      <th></th>\n",
       "      <th>State_Tribe_Territory</th>\n",
       "      <th>County_Name</th>\n",
       "      <th>FIPS_State</th>\n",
       "      <th>FIPS_County</th>\n",
       "      <th>date</th>\n",
       "      <th>mask_order</th>\n",
       "    </tr>\n",
       "  </thead>\n",
       "  <tbody>\n",
       "    <tr>\n",
       "      <th>0</th>\n",
       "      <td>AL</td>\n",
       "      <td>Autauga County</td>\n",
       "      <td>1</td>\n",
       "      <td>1</td>\n",
       "      <td>2020-04-10</td>\n",
       "      <td>0</td>\n",
       "    </tr>\n",
       "    <tr>\n",
       "      <th>1</th>\n",
       "      <td>AL</td>\n",
       "      <td>Autauga County</td>\n",
       "      <td>1</td>\n",
       "      <td>1</td>\n",
       "      <td>2020-04-11</td>\n",
       "      <td>0</td>\n",
       "    </tr>\n",
       "    <tr>\n",
       "      <th>2</th>\n",
       "      <td>AL</td>\n",
       "      <td>Autauga County</td>\n",
       "      <td>1</td>\n",
       "      <td>1</td>\n",
       "      <td>2020-04-12</td>\n",
       "      <td>0</td>\n",
       "    </tr>\n",
       "    <tr>\n",
       "      <th>3</th>\n",
       "      <td>AL</td>\n",
       "      <td>Autauga County</td>\n",
       "      <td>1</td>\n",
       "      <td>1</td>\n",
       "      <td>2020-04-13</td>\n",
       "      <td>0</td>\n",
       "    </tr>\n",
       "    <tr>\n",
       "      <th>4</th>\n",
       "      <td>AL</td>\n",
       "      <td>Autauga County</td>\n",
       "      <td>1</td>\n",
       "      <td>1</td>\n",
       "      <td>2020-04-14</td>\n",
       "      <td>0</td>\n",
       "    </tr>\n",
       "  </tbody>\n",
       "</table>\n",
       "</div>"
      ],
      "text/plain": [
       "  State_Tribe_Territory     County_Name  FIPS_State  FIPS_County       date  \\\n",
       "0                    AL  Autauga County           1            1 2020-04-10   \n",
       "1                    AL  Autauga County           1            1 2020-04-11   \n",
       "2                    AL  Autauga County           1            1 2020-04-12   \n",
       "3                    AL  Autauga County           1            1 2020-04-13   \n",
       "4                    AL  Autauga County           1            1 2020-04-14   \n",
       "\n",
       "   mask_order  \n",
       "0           0  \n",
       "1           0  \n",
       "2           0  \n",
       "3           0  \n",
       "4           0  "
      ]
     },
     "execution_count": 12,
     "metadata": {},
     "output_type": "execute_result"
    }
   ],
   "source": [
    "masks1 = masks[['State_Tribe_Territory', 'County_Name', 'FIPS_State', 'FIPS_County',\n",
    "       'date', 'mask_order']]\n",
    "masks1.head()"
   ]
  },
  {
   "cell_type": "code",
   "execution_count": 13,
   "id": "3a45c24b",
   "metadata": {},
   "outputs": [
    {
     "name": "stderr",
     "output_type": "stream",
     "text": [
      "C:\\Users\\aarme\\anaconda3\\lib\\site-packages\\IPython\\core\\interactiveshell.py:3444: DtypeWarning: Columns (7,9,11) have mixed types.Specify dtype option on import or set low_memory=False.\n",
      "  exec(code_obj, self.user_global_ns, self.user_ns)\n"
     ]
    },
    {
     "data": {
      "text/html": [
       "<div>\n",
       "<style scoped>\n",
       "    .dataframe tbody tr th:only-of-type {\n",
       "        vertical-align: middle;\n",
       "    }\n",
       "\n",
       "    .dataframe tbody tr th {\n",
       "        vertical-align: top;\n",
       "    }\n",
       "\n",
       "    .dataframe thead th {\n",
       "        text-align: right;\n",
       "    }\n",
       "</style>\n",
       "<table border=\"1\" class=\"dataframe\">\n",
       "  <thead>\n",
       "    <tr style=\"text-align: right;\">\n",
       "      <th></th>\n",
       "      <th>State_Tribe_Territory</th>\n",
       "      <th>County_Name</th>\n",
       "      <th>FIPS_State</th>\n",
       "      <th>FIPS_County</th>\n",
       "      <th>date</th>\n",
       "      <th>General_GB_order_group</th>\n",
       "      <th>General_GB_order_code</th>\n",
       "      <th>General_or_Under_6ft_Bans_Gatherings_Over</th>\n",
       "      <th>Express_Preemption</th>\n",
       "      <th>Indoor_Outdoor</th>\n",
       "    </tr>\n",
       "  </thead>\n",
       "  <tbody>\n",
       "    <tr>\n",
       "      <th>0</th>\n",
       "      <td>AL</td>\n",
       "      <td>Autauga County</td>\n",
       "      <td>1</td>\n",
       "      <td>1</td>\n",
       "      <td>2020-03-11</td>\n",
       "      <td>No order found</td>\n",
       "      <td>1</td>\n",
       "      <td>NaN</td>\n",
       "      <td>NaN</td>\n",
       "      <td>NaN</td>\n",
       "    </tr>\n",
       "    <tr>\n",
       "      <th>1</th>\n",
       "      <td>AL</td>\n",
       "      <td>Autauga County</td>\n",
       "      <td>1</td>\n",
       "      <td>1</td>\n",
       "      <td>2020-03-12</td>\n",
       "      <td>No order found</td>\n",
       "      <td>1</td>\n",
       "      <td>NaN</td>\n",
       "      <td>NaN</td>\n",
       "      <td>NaN</td>\n",
       "    </tr>\n",
       "    <tr>\n",
       "      <th>2</th>\n",
       "      <td>AL</td>\n",
       "      <td>Autauga County</td>\n",
       "      <td>1</td>\n",
       "      <td>1</td>\n",
       "      <td>2020-03-13</td>\n",
       "      <td>No order found</td>\n",
       "      <td>1</td>\n",
       "      <td>NaN</td>\n",
       "      <td>NaN</td>\n",
       "      <td>NaN</td>\n",
       "    </tr>\n",
       "    <tr>\n",
       "      <th>3</th>\n",
       "      <td>AL</td>\n",
       "      <td>Autauga County</td>\n",
       "      <td>1</td>\n",
       "      <td>1</td>\n",
       "      <td>2020-03-14</td>\n",
       "      <td>No order found</td>\n",
       "      <td>1</td>\n",
       "      <td>NaN</td>\n",
       "      <td>NaN</td>\n",
       "      <td>NaN</td>\n",
       "    </tr>\n",
       "    <tr>\n",
       "      <th>4</th>\n",
       "      <td>AL</td>\n",
       "      <td>Autauga County</td>\n",
       "      <td>1</td>\n",
       "      <td>1</td>\n",
       "      <td>2020-03-15</td>\n",
       "      <td>No order found</td>\n",
       "      <td>1</td>\n",
       "      <td>NaN</td>\n",
       "      <td>NaN</td>\n",
       "      <td>NaN</td>\n",
       "    </tr>\n",
       "  </tbody>\n",
       "</table>\n",
       "</div>"
      ],
      "text/plain": [
       "  State_Tribe_Territory     County_Name  FIPS_State  FIPS_County       date  \\\n",
       "0                    AL  Autauga County           1            1 2020-03-11   \n",
       "1                    AL  Autauga County           1            1 2020-03-12   \n",
       "2                    AL  Autauga County           1            1 2020-03-13   \n",
       "3                    AL  Autauga County           1            1 2020-03-14   \n",
       "4                    AL  Autauga County           1            1 2020-03-15   \n",
       "\n",
       "  General_GB_order_group  General_GB_order_code  \\\n",
       "0         No order found                      1   \n",
       "1         No order found                      1   \n",
       "2         No order found                      1   \n",
       "3         No order found                      1   \n",
       "4         No order found                      1   \n",
       "\n",
       "  General_or_Under_6ft_Bans_Gatherings_Over Express_Preemption Indoor_Outdoor  \n",
       "0                                       NaN                NaN            NaN  \n",
       "1                                       NaN                NaN            NaN  \n",
       "2                                       NaN                NaN            NaN  \n",
       "3                                       NaN                NaN            NaN  \n",
       "4                                       NaN                NaN            NaN  "
      ]
     },
     "execution_count": 13,
     "metadata": {},
     "output_type": "execute_result"
    }
   ],
   "source": [
    "gatherings = pd.read_csv('Gathering_Bans.csv', parse_dates= ['date'])\n",
    "gatherings = gatherings.drop(['Source_of_Action', 'URL', 'Citation'], axis= 1)\n",
    "gatherings.head()"
   ]
  },
  {
   "cell_type": "code",
   "execution_count": 14,
   "id": "26cec728",
   "metadata": {},
   "outputs": [
    {
     "data": {
      "text/html": [
       "<div>\n",
       "<style scoped>\n",
       "    .dataframe tbody tr th:only-of-type {\n",
       "        vertical-align: middle;\n",
       "    }\n",
       "\n",
       "    .dataframe tbody tr th {\n",
       "        vertical-align: top;\n",
       "    }\n",
       "\n",
       "    .dataframe thead th {\n",
       "        text-align: right;\n",
       "    }\n",
       "</style>\n",
       "<table border=\"1\" class=\"dataframe\">\n",
       "  <thead>\n",
       "    <tr style=\"text-align: right;\">\n",
       "      <th></th>\n",
       "      <th>FIPS_State</th>\n",
       "      <th>FIPS_County</th>\n",
       "      <th>General_GB_order_code</th>\n",
       "    </tr>\n",
       "  </thead>\n",
       "  <tbody>\n",
       "    <tr>\n",
       "      <th>count</th>\n",
       "      <td>1.690859e+06</td>\n",
       "      <td>1.690859e+06</td>\n",
       "      <td>1.690859e+06</td>\n",
       "    </tr>\n",
       "    <tr>\n",
       "      <th>mean</th>\n",
       "      <td>3.143582e+01</td>\n",
       "      <td>1.027046e+02</td>\n",
       "      <td>3.209515e+00</td>\n",
       "    </tr>\n",
       "    <tr>\n",
       "      <th>std</th>\n",
       "      <td>1.640763e+01</td>\n",
       "      <td>1.065462e+02</td>\n",
       "      <td>2.443695e+00</td>\n",
       "    </tr>\n",
       "    <tr>\n",
       "      <th>min</th>\n",
       "      <td>1.000000e+00</td>\n",
       "      <td>1.000000e+00</td>\n",
       "      <td>1.000000e+00</td>\n",
       "    </tr>\n",
       "    <tr>\n",
       "      <th>25%</th>\n",
       "      <td>1.900000e+01</td>\n",
       "      <td>3.500000e+01</td>\n",
       "      <td>1.000000e+00</td>\n",
       "    </tr>\n",
       "    <tr>\n",
       "      <th>50%</th>\n",
       "      <td>3.000000e+01</td>\n",
       "      <td>7.900000e+01</td>\n",
       "      <td>1.000000e+00</td>\n",
       "    </tr>\n",
       "    <tr>\n",
       "      <th>75%</th>\n",
       "      <td>4.600000e+01</td>\n",
       "      <td>1.330000e+02</td>\n",
       "      <td>6.000000e+00</td>\n",
       "    </tr>\n",
       "    <tr>\n",
       "      <th>max</th>\n",
       "      <td>7.800000e+01</td>\n",
       "      <td>8.400000e+02</td>\n",
       "      <td>7.000000e+00</td>\n",
       "    </tr>\n",
       "  </tbody>\n",
       "</table>\n",
       "</div>"
      ],
      "text/plain": [
       "         FIPS_State   FIPS_County  General_GB_order_code\n",
       "count  1.690859e+06  1.690859e+06           1.690859e+06\n",
       "mean   3.143582e+01  1.027046e+02           3.209515e+00\n",
       "std    1.640763e+01  1.065462e+02           2.443695e+00\n",
       "min    1.000000e+00  1.000000e+00           1.000000e+00\n",
       "25%    1.900000e+01  3.500000e+01           1.000000e+00\n",
       "50%    3.000000e+01  7.900000e+01           1.000000e+00\n",
       "75%    4.600000e+01  1.330000e+02           6.000000e+00\n",
       "max    7.800000e+01  8.400000e+02           7.000000e+00"
      ]
     },
     "execution_count": 14,
     "metadata": {},
     "output_type": "execute_result"
    }
   ],
   "source": [
    "gatherings.describe()"
   ]
  },
  {
   "cell_type": "code",
   "execution_count": 15,
   "id": "076ed17d",
   "metadata": {},
   "outputs": [
    {
     "data": {
      "text/html": [
       "<div>\n",
       "<style scoped>\n",
       "    .dataframe tbody tr th:only-of-type {\n",
       "        vertical-align: middle;\n",
       "    }\n",
       "\n",
       "    .dataframe tbody tr th {\n",
       "        vertical-align: top;\n",
       "    }\n",
       "\n",
       "    .dataframe thead th {\n",
       "        text-align: right;\n",
       "    }\n",
       "</style>\n",
       "<table border=\"1\" class=\"dataframe\">\n",
       "  <thead>\n",
       "    <tr style=\"text-align: right;\">\n",
       "      <th></th>\n",
       "      <th>State_Tribe_Territory</th>\n",
       "      <th>County_Name</th>\n",
       "      <th>General_GB_order_group</th>\n",
       "      <th>General_or_Under_6ft_Bans_Gatherings_Over</th>\n",
       "      <th>Express_Preemption</th>\n",
       "      <th>Indoor_Outdoor</th>\n",
       "    </tr>\n",
       "  </thead>\n",
       "  <tbody>\n",
       "    <tr>\n",
       "      <th>count</th>\n",
       "      <td>1690859</td>\n",
       "      <td>1690859</td>\n",
       "      <td>1690859</td>\n",
       "      <td>1482123</td>\n",
       "      <td>1473636</td>\n",
       "      <td>20883</td>\n",
       "    </tr>\n",
       "    <tr>\n",
       "      <th>unique</th>\n",
       "      <td>56</td>\n",
       "      <td>1968</td>\n",
       "      <td>7</td>\n",
       "      <td>27</td>\n",
       "      <td>6</td>\n",
       "      <td>6</td>\n",
       "    </tr>\n",
       "    <tr>\n",
       "      <th>top</th>\n",
       "      <td>TX</td>\n",
       "      <td>Washington County</td>\n",
       "      <td>No order found</td>\n",
       "      <td>No ban</td>\n",
       "      <td>Unknown</td>\n",
       "      <td>Outdoor</td>\n",
       "    </tr>\n",
       "    <tr>\n",
       "      <th>freq</th>\n",
       "      <td>132842</td>\n",
       "      <td>15690</td>\n",
       "      <td>860382</td>\n",
       "      <td>651646</td>\n",
       "      <td>827198</td>\n",
       "      <td>9983</td>\n",
       "    </tr>\n",
       "  </tbody>\n",
       "</table>\n",
       "</div>"
      ],
      "text/plain": [
       "       State_Tribe_Territory        County_Name General_GB_order_group  \\\n",
       "count                1690859            1690859                1690859   \n",
       "unique                    56               1968                      7   \n",
       "top                       TX  Washington County         No order found   \n",
       "freq                  132842              15690                 860382   \n",
       "\n",
       "       General_or_Under_6ft_Bans_Gatherings_Over Express_Preemption  \\\n",
       "count                                    1482123            1473636   \n",
       "unique                                        27                  6   \n",
       "top                                       No ban            Unknown   \n",
       "freq                                      651646             827198   \n",
       "\n",
       "       Indoor_Outdoor  \n",
       "count           20883  \n",
       "unique              6  \n",
       "top           Outdoor  \n",
       "freq             9983  "
      ]
     },
     "execution_count": 15,
     "metadata": {},
     "output_type": "execute_result"
    }
   ],
   "source": [
    "gatherings.describe(include='O')"
   ]
  },
  {
   "cell_type": "code",
   "execution_count": 16,
   "id": "78d4775b",
   "metadata": {},
   "outputs": [
    {
     "data": {
      "text/plain": [
       "array([[<AxesSubplot:title={'center':'FIPS_State'}>,\n",
       "        <AxesSubplot:title={'center':'FIPS_County'}>],\n",
       "       [<AxesSubplot:title={'center':'date'}>,\n",
       "        <AxesSubplot:title={'center':'General_GB_order_code'}>]],\n",
       "      dtype=object)"
      ]
     },
     "execution_count": 16,
     "metadata": {},
     "output_type": "execute_result"
    },
    {
     "data": {
      "image/png": "[encoded data removed]",
      "text/plain": [
       "<Figure size 432x288 with 4 Axes>"
      ]
     },
     "metadata": {
      "needs_background": "light"
     },
     "output_type": "display_data"
    }
   ],
   "source": [
    "gatherings.hist()"
   ]
  },
  {
   "cell_type": "code",
   "execution_count": 17,
   "id": "5a395770",
   "metadata": {},
   "outputs": [
    {
     "data": {
      "text/plain": [
       "State_Tribe_Territory                              0\n",
       "County_Name                                        0\n",
       "FIPS_State                                         0\n",
       "FIPS_County                                        0\n",
       "date                                               0\n",
       "General_GB_order_group                             0\n",
       "General_GB_order_code                              0\n",
       "General_or_Under_6ft_Bans_Gatherings_Over     208736\n",
       "Express_Preemption                            217223\n",
       "Indoor_Outdoor                               1669976\n",
       "dtype: int64"
      ]
     },
     "execution_count": 17,
     "metadata": {},
     "output_type": "execute_result"
    }
   ],
   "source": [
    "gatherings.isna().sum()"
   ]
  },
  {
   "cell_type": "code",
   "execution_count": 18,
   "id": "7c3e7900",
   "metadata": {},
   "outputs": [
    {
     "data": {
      "text/plain": [
       "(array(['No order found', 'Ban of gatherings over 1-10 people',\n",
       "        'Bans gatherings of any size',\n",
       "        'Ban of gatherings over 11-25 people',\n",
       "        'Ban of gatherings over 101 or more people',\n",
       "        'Ban of gatherings over 26-50 people',\n",
       "        'Ban of gatherings over 51-100 people'], dtype=object),\n",
       " array([1, 6, 7, 5, 2, 4, 3], dtype=int64))"
      ]
     },
     "execution_count": 18,
     "metadata": {},
     "output_type": "execute_result"
    }
   ],
   "source": [
    "gatherings['General_GB_order_group'].unique(),gatherings['General_GB_order_code'].unique()"
   ]
  },
  {
   "cell_type": "code",
   "execution_count": 19,
   "id": "85c28bb8",
   "metadata": {},
   "outputs": [
    {
     "data": {
      "text/plain": [
       "<AxesSubplot:xlabel='General_GB_order_group,General_GB_order_code'>"
      ]
     },
     "execution_count": 19,
     "metadata": {},
     "output_type": "execute_result"
    },
    {
     "data": {
      "image/png": "[encoded data removed]",
      "text/plain": [
       "<Figure size 432x288 with 1 Axes>"
      ]
     },
     "metadata": {
      "needs_background": "light"
     },
     "output_type": "display_data"
    }
   ],
   "source": [
    "gatherings[['General_GB_order_group', 'General_GB_order_code']].value_counts().plot(kind='bar')"
   ]
  },
  {
   "cell_type": "code",
   "execution_count": 20,
   "id": "93b202db",
   "metadata": {},
   "outputs": [],
   "source": [
    "gatherings['General_GB_order_code'] = gatherings['General_GB_order_code'] - 1"
   ]
  },
  {
   "cell_type": "code",
   "execution_count": 21,
   "id": "0dd87354",
   "metadata": {},
   "outputs": [
    {
     "data": {
      "text/plain": [
       "Index(['State_Tribe_Territory', 'County_Name', 'FIPS_State', 'FIPS_County',\n",
       "       'date', 'General_GB_order_group', 'General_GB_order_code',\n",
       "       'General_or_Under_6ft_Bans_Gatherings_Over', 'Express_Preemption',\n",
       "       'Indoor_Outdoor'],\n",
       "      dtype='object')"
      ]
     },
     "execution_count": 21,
     "metadata": {},
     "output_type": "execute_result"
    }
   ],
   "source": [
    "gatherings.columns"
   ]
  },
  {
   "cell_type": "code",
   "execution_count": 22,
   "id": "b6a216e4",
   "metadata": {},
   "outputs": [
    {
     "data": {
      "text/html": [
       "<div>\n",
       "<style scoped>\n",
       "    .dataframe tbody tr th:only-of-type {\n",
       "        vertical-align: middle;\n",
       "    }\n",
       "\n",
       "    .dataframe tbody tr th {\n",
       "        vertical-align: top;\n",
       "    }\n",
       "\n",
       "    .dataframe thead th {\n",
       "        text-align: right;\n",
       "    }\n",
       "</style>\n",
       "<table border=\"1\" class=\"dataframe\">\n",
       "  <thead>\n",
       "    <tr style=\"text-align: right;\">\n",
       "      <th></th>\n",
       "      <th>State_Tribe_Territory</th>\n",
       "      <th>County_Name</th>\n",
       "      <th>FIPS_State</th>\n",
       "      <th>FIPS_County</th>\n",
       "      <th>date</th>\n",
       "      <th>General_GB_order_group</th>\n",
       "      <th>General_GB_order_code</th>\n",
       "    </tr>\n",
       "  </thead>\n",
       "  <tbody>\n",
       "    <tr>\n",
       "      <th>0</th>\n",
       "      <td>AL</td>\n",
       "      <td>Autauga County</td>\n",
       "      <td>1</td>\n",
       "      <td>1</td>\n",
       "      <td>2020-03-11</td>\n",
       "      <td>No order found</td>\n",
       "      <td>0</td>\n",
       "    </tr>\n",
       "    <tr>\n",
       "      <th>1</th>\n",
       "      <td>AL</td>\n",
       "      <td>Autauga County</td>\n",
       "      <td>1</td>\n",
       "      <td>1</td>\n",
       "      <td>2020-03-12</td>\n",
       "      <td>No order found</td>\n",
       "      <td>0</td>\n",
       "    </tr>\n",
       "    <tr>\n",
       "      <th>2</th>\n",
       "      <td>AL</td>\n",
       "      <td>Autauga County</td>\n",
       "      <td>1</td>\n",
       "      <td>1</td>\n",
       "      <td>2020-03-13</td>\n",
       "      <td>No order found</td>\n",
       "      <td>0</td>\n",
       "    </tr>\n",
       "    <tr>\n",
       "      <th>3</th>\n",
       "      <td>AL</td>\n",
       "      <td>Autauga County</td>\n",
       "      <td>1</td>\n",
       "      <td>1</td>\n",
       "      <td>2020-03-14</td>\n",
       "      <td>No order found</td>\n",
       "      <td>0</td>\n",
       "    </tr>\n",
       "    <tr>\n",
       "      <th>4</th>\n",
       "      <td>AL</td>\n",
       "      <td>Autauga County</td>\n",
       "      <td>1</td>\n",
       "      <td>1</td>\n",
       "      <td>2020-03-15</td>\n",
       "      <td>No order found</td>\n",
       "      <td>0</td>\n",
       "    </tr>\n",
       "  </tbody>\n",
       "</table>\n",
       "</div>"
      ],
      "text/plain": [
       "  State_Tribe_Territory     County_Name  FIPS_State  FIPS_County       date  \\\n",
       "0                    AL  Autauga County           1            1 2020-03-11   \n",
       "1                    AL  Autauga County           1            1 2020-03-12   \n",
       "2                    AL  Autauga County           1            1 2020-03-13   \n",
       "3                    AL  Autauga County           1            1 2020-03-14   \n",
       "4                    AL  Autauga County           1            1 2020-03-15   \n",
       "\n",
       "  General_GB_order_group  General_GB_order_code  \n",
       "0         No order found                      0  \n",
       "1         No order found                      0  \n",
       "2         No order found                      0  \n",
       "3         No order found                      0  \n",
       "4         No order found                      0  "
      ]
     },
     "execution_count": 22,
     "metadata": {},
     "output_type": "execute_result"
    }
   ],
   "source": [
    "gatherings1 = gatherings[['State_Tribe_Territory', 'County_Name', 'FIPS_State', 'FIPS_County',\n",
    "       'date', 'General_GB_order_group', 'General_GB_order_code']]\n",
    "gatherings1.head()"
   ]
  },
  {
   "cell_type": "code",
   "execution_count": 23,
   "id": "a59502c7",
   "metadata": {},
   "outputs": [
    {
     "name": "stderr",
     "output_type": "stream",
     "text": [
      "C:\\Users\\aarme\\anaconda3\\lib\\site-packages\\IPython\\core\\interactiveshell.py:3444: DtypeWarning: Columns (9,15) have mixed types.Specify dtype option on import or set low_memory=False.\n",
      "  exec(code_obj, self.user_global_ns, self.user_ns)\n"
     ]
    },
    {
     "data": {
      "text/html": [
       "<div>\n",
       "<style scoped>\n",
       "    .dataframe tbody tr th:only-of-type {\n",
       "        vertical-align: middle;\n",
       "    }\n",
       "\n",
       "    .dataframe tbody tr th {\n",
       "        vertical-align: top;\n",
       "    }\n",
       "\n",
       "    .dataframe thead th {\n",
       "        text-align: right;\n",
       "    }\n",
       "</style>\n",
       "<table border=\"1\" class=\"dataframe\">\n",
       "  <thead>\n",
       "    <tr style=\"text-align: right;\">\n",
       "      <th></th>\n",
       "      <th>State_Tribe_Territory</th>\n",
       "      <th>County_Name</th>\n",
       "      <th>FIPS_State</th>\n",
       "      <th>FIPS_County</th>\n",
       "      <th>date</th>\n",
       "      <th>Business_Type</th>\n",
       "      <th>Action</th>\n",
       "      <th>order_code</th>\n",
       "      <th>Percent_Capacity_Outdoor</th>\n",
       "      <th>Percent_Capacity_Indoor</th>\n",
       "      <th>Numeric_Capacity_Outdoor</th>\n",
       "      <th>Numeric_Capacity_Indoor</th>\n",
       "      <th>Limited_Open_Outdoor_Only</th>\n",
       "      <th>Limited_Open_General_Indoor</th>\n",
       "    </tr>\n",
       "  </thead>\n",
       "  <tbody>\n",
       "    <tr>\n",
       "      <th>0</th>\n",
       "      <td>AL</td>\n",
       "      <td>Autauga County</td>\n",
       "      <td>1</td>\n",
       "      <td>1</td>\n",
       "      <td>2020-03-15</td>\n",
       "      <td>Restaurants</td>\n",
       "      <td>NaN</td>\n",
       "      <td>1</td>\n",
       "      <td>NaN</td>\n",
       "      <td>NaN</td>\n",
       "      <td>NaN</td>\n",
       "      <td>NaN</td>\n",
       "      <td>NaN</td>\n",
       "      <td>NaN</td>\n",
       "    </tr>\n",
       "    <tr>\n",
       "      <th>1</th>\n",
       "      <td>AL</td>\n",
       "      <td>Autauga County</td>\n",
       "      <td>1</td>\n",
       "      <td>1</td>\n",
       "      <td>2020-03-16</td>\n",
       "      <td>Restaurants</td>\n",
       "      <td>NaN</td>\n",
       "      <td>1</td>\n",
       "      <td>NaN</td>\n",
       "      <td>NaN</td>\n",
       "      <td>NaN</td>\n",
       "      <td>NaN</td>\n",
       "      <td>NaN</td>\n",
       "      <td>NaN</td>\n",
       "    </tr>\n",
       "    <tr>\n",
       "      <th>2</th>\n",
       "      <td>AL</td>\n",
       "      <td>Autauga County</td>\n",
       "      <td>1</td>\n",
       "      <td>1</td>\n",
       "      <td>2020-03-17</td>\n",
       "      <td>Restaurants</td>\n",
       "      <td>NaN</td>\n",
       "      <td>1</td>\n",
       "      <td>NaN</td>\n",
       "      <td>NaN</td>\n",
       "      <td>NaN</td>\n",
       "      <td>NaN</td>\n",
       "      <td>NaN</td>\n",
       "      <td>NaN</td>\n",
       "    </tr>\n",
       "    <tr>\n",
       "      <th>3</th>\n",
       "      <td>AL</td>\n",
       "      <td>Autauga County</td>\n",
       "      <td>1</td>\n",
       "      <td>1</td>\n",
       "      <td>2020-03-18</td>\n",
       "      <td>Restaurants</td>\n",
       "      <td>NaN</td>\n",
       "      <td>1</td>\n",
       "      <td>NaN</td>\n",
       "      <td>NaN</td>\n",
       "      <td>NaN</td>\n",
       "      <td>NaN</td>\n",
       "      <td>NaN</td>\n",
       "      <td>NaN</td>\n",
       "    </tr>\n",
       "    <tr>\n",
       "      <th>4</th>\n",
       "      <td>AL</td>\n",
       "      <td>Autauga County</td>\n",
       "      <td>1</td>\n",
       "      <td>1</td>\n",
       "      <td>2020-03-19</td>\n",
       "      <td>Restaurants</td>\n",
       "      <td>Curbside/carryout/delivery only</td>\n",
       "      <td>5</td>\n",
       "      <td>NaN</td>\n",
       "      <td>NaN</td>\n",
       "      <td>NaN</td>\n",
       "      <td>NaN</td>\n",
       "      <td>NaN</td>\n",
       "      <td>NaN</td>\n",
       "    </tr>\n",
       "  </tbody>\n",
       "</table>\n",
       "</div>"
      ],
      "text/plain": [
       "  State_Tribe_Territory     County_Name  FIPS_State  FIPS_County       date  \\\n",
       "0                    AL  Autauga County           1            1 2020-03-15   \n",
       "1                    AL  Autauga County           1            1 2020-03-16   \n",
       "2                    AL  Autauga County           1            1 2020-03-17   \n",
       "3                    AL  Autauga County           1            1 2020-03-18   \n",
       "4                    AL  Autauga County           1            1 2020-03-19   \n",
       "\n",
       "  Business_Type                           Action  order_code  \\\n",
       "0   Restaurants                              NaN           1   \n",
       "1   Restaurants                              NaN           1   \n",
       "2   Restaurants                              NaN           1   \n",
       "3   Restaurants                              NaN           1   \n",
       "4   Restaurants  Curbside/carryout/delivery only           5   \n",
       "\n",
       "  Percent_Capacity_Outdoor Percent_Capacity_Indoor Numeric_Capacity_Outdoor  \\\n",
       "0                      NaN                     NaN                      NaN   \n",
       "1                      NaN                     NaN                      NaN   \n",
       "2                      NaN                     NaN                      NaN   \n",
       "3                      NaN                     NaN                      NaN   \n",
       "4                      NaN                     NaN                      NaN   \n",
       "\n",
       "  Numeric_Capacity_Indoor Limited_Open_Outdoor_Only  \\\n",
       "0                     NaN                       NaN   \n",
       "1                     NaN                       NaN   \n",
       "2                     NaN                       NaN   \n",
       "3                     NaN                       NaN   \n",
       "4                     NaN                       NaN   \n",
       "\n",
       "  Limited_Open_General_Indoor  \n",
       "0                         NaN  \n",
       "1                         NaN  \n",
       "2                         NaN  \n",
       "3                         NaN  \n",
       "4                         NaN  "
      ]
     },
     "execution_count": 23,
     "metadata": {},
     "output_type": "execute_result"
    }
   ],
   "source": [
    "restaurants = pd.read_csv('Closing_and_Reopening_Restaurants.csv', parse_dates= ['date'])\n",
    "restaurants = restaurants.drop(['Source_of_Action', 'URL', 'Citation'], axis= 1)\n",
    "restaurants.head()"
   ]
  },
  {
   "cell_type": "code",
   "execution_count": 24,
   "id": "22fa2be6",
   "metadata": {},
   "outputs": [
    {
     "data": {
      "text/html": [
       "<div>\n",
       "<style scoped>\n",
       "    .dataframe tbody tr th:only-of-type {\n",
       "        vertical-align: middle;\n",
       "    }\n",
       "\n",
       "    .dataframe tbody tr th {\n",
       "        vertical-align: top;\n",
       "    }\n",
       "\n",
       "    .dataframe thead th {\n",
       "        text-align: right;\n",
       "    }\n",
       "</style>\n",
       "<table border=\"1\" class=\"dataframe\">\n",
       "  <thead>\n",
       "    <tr style=\"text-align: right;\">\n",
       "      <th></th>\n",
       "      <th>FIPS_State</th>\n",
       "      <th>FIPS_County</th>\n",
       "      <th>order_code</th>\n",
       "    </tr>\n",
       "  </thead>\n",
       "  <tbody>\n",
       "    <tr>\n",
       "      <th>count</th>\n",
       "      <td>1.677927e+06</td>\n",
       "      <td>1.677927e+06</td>\n",
       "      <td>1.677927e+06</td>\n",
       "    </tr>\n",
       "    <tr>\n",
       "      <th>mean</th>\n",
       "      <td>3.143582e+01</td>\n",
       "      <td>1.027046e+02</td>\n",
       "      <td>2.878512e+00</td>\n",
       "    </tr>\n",
       "    <tr>\n",
       "      <th>std</th>\n",
       "      <td>1.640763e+01</td>\n",
       "      <td>1.065462e+02</td>\n",
       "      <td>9.169881e-01</td>\n",
       "    </tr>\n",
       "    <tr>\n",
       "      <th>min</th>\n",
       "      <td>1.000000e+00</td>\n",
       "      <td>1.000000e+00</td>\n",
       "      <td>1.000000e+00</td>\n",
       "    </tr>\n",
       "    <tr>\n",
       "      <th>25%</th>\n",
       "      <td>1.900000e+01</td>\n",
       "      <td>3.500000e+01</td>\n",
       "      <td>2.000000e+00</td>\n",
       "    </tr>\n",
       "    <tr>\n",
       "      <th>50%</th>\n",
       "      <td>3.000000e+01</td>\n",
       "      <td>7.900000e+01</td>\n",
       "      <td>3.000000e+00</td>\n",
       "    </tr>\n",
       "    <tr>\n",
       "      <th>75%</th>\n",
       "      <td>4.600000e+01</td>\n",
       "      <td>1.330000e+02</td>\n",
       "      <td>3.000000e+00</td>\n",
       "    </tr>\n",
       "    <tr>\n",
       "      <th>max</th>\n",
       "      <td>7.800000e+01</td>\n",
       "      <td>8.400000e+02</td>\n",
       "      <td>6.000000e+00</td>\n",
       "    </tr>\n",
       "  </tbody>\n",
       "</table>\n",
       "</div>"
      ],
      "text/plain": [
       "         FIPS_State   FIPS_County    order_code\n",
       "count  1.677927e+06  1.677927e+06  1.677927e+06\n",
       "mean   3.143582e+01  1.027046e+02  2.878512e+00\n",
       "std    1.640763e+01  1.065462e+02  9.169881e-01\n",
       "min    1.000000e+00  1.000000e+00  1.000000e+00\n",
       "25%    1.900000e+01  3.500000e+01  2.000000e+00\n",
       "50%    3.000000e+01  7.900000e+01  3.000000e+00\n",
       "75%    4.600000e+01  1.330000e+02  3.000000e+00\n",
       "max    7.800000e+01  8.400000e+02  6.000000e+00"
      ]
     },
     "execution_count": 24,
     "metadata": {},
     "output_type": "execute_result"
    }
   ],
   "source": [
    "restaurants.describe()"
   ]
  },
  {
   "cell_type": "code",
   "execution_count": 25,
   "id": "8dbf7e1b",
   "metadata": {},
   "outputs": [
    {
     "data": {
      "text/html": [
       "<div>\n",
       "<style scoped>\n",
       "    .dataframe tbody tr th:only-of-type {\n",
       "        vertical-align: middle;\n",
       "    }\n",
       "\n",
       "    .dataframe tbody tr th {\n",
       "        vertical-align: top;\n",
       "    }\n",
       "\n",
       "    .dataframe thead th {\n",
       "        text-align: right;\n",
       "    }\n",
       "</style>\n",
       "<table border=\"1\" class=\"dataframe\">\n",
       "  <thead>\n",
       "    <tr style=\"text-align: right;\">\n",
       "      <th></th>\n",
       "      <th>State_Tribe_Territory</th>\n",
       "      <th>County_Name</th>\n",
       "      <th>Business_Type</th>\n",
       "      <th>Action</th>\n",
       "      <th>Percent_Capacity_Outdoor</th>\n",
       "      <th>Percent_Capacity_Indoor</th>\n",
       "      <th>Numeric_Capacity_Outdoor</th>\n",
       "      <th>Numeric_Capacity_Indoor</th>\n",
       "      <th>Limited_Open_Outdoor_Only</th>\n",
       "      <th>Limited_Open_General_Indoor</th>\n",
       "    </tr>\n",
       "  </thead>\n",
       "  <tbody>\n",
       "    <tr>\n",
       "      <th>count</th>\n",
       "      <td>1677927</td>\n",
       "      <td>1677927</td>\n",
       "      <td>1677927</td>\n",
       "      <td>1645725</td>\n",
       "      <td>935409</td>\n",
       "      <td>882411</td>\n",
       "      <td>935409</td>\n",
       "      <td>882411</td>\n",
       "      <td>52998</td>\n",
       "      <td>882411</td>\n",
       "    </tr>\n",
       "    <tr>\n",
       "      <th>unique</th>\n",
       "      <td>56</td>\n",
       "      <td>1968</td>\n",
       "      <td>1</td>\n",
       "      <td>4</td>\n",
       "      <td>13</td>\n",
       "      <td>14</td>\n",
       "      <td>13</td>\n",
       "      <td>13</td>\n",
       "      <td>1</td>\n",
       "      <td>1</td>\n",
       "    </tr>\n",
       "    <tr>\n",
       "      <th>top</th>\n",
       "      <td>TX</td>\n",
       "      <td>Washington County</td>\n",
       "      <td>Restaurants</td>\n",
       "      <td>Open with social distancing/reduced seating/en...</td>\n",
       "      <td>Not specified</td>\n",
       "      <td>Not specified</td>\n",
       "      <td>Not specified</td>\n",
       "      <td>Not specified</td>\n",
       "      <td>Yes</td>\n",
       "      <td>Yes</td>\n",
       "    </tr>\n",
       "    <tr>\n",
       "      <th>freq</th>\n",
       "      <td>131826</td>\n",
       "      <td>15570</td>\n",
       "      <td>1677927</td>\n",
       "      <td>922584</td>\n",
       "      <td>715555</td>\n",
       "      <td>336003</td>\n",
       "      <td>852603</td>\n",
       "      <td>763721</td>\n",
       "      <td>52998</td>\n",
       "      <td>882411</td>\n",
       "    </tr>\n",
       "  </tbody>\n",
       "</table>\n",
       "</div>"
      ],
      "text/plain": [
       "       State_Tribe_Territory        County_Name Business_Type  \\\n",
       "count                1677927            1677927       1677927   \n",
       "unique                    56               1968             1   \n",
       "top                       TX  Washington County   Restaurants   \n",
       "freq                  131826              15570       1677927   \n",
       "\n",
       "                                                   Action  \\\n",
       "count                                             1645725   \n",
       "unique                                                  4   \n",
       "top     Open with social distancing/reduced seating/en...   \n",
       "freq                                               922584   \n",
       "\n",
       "       Percent_Capacity_Outdoor Percent_Capacity_Indoor  \\\n",
       "count                    935409                  882411   \n",
       "unique                       13                      14   \n",
       "top               Not specified           Not specified   \n",
       "freq                     715555                  336003   \n",
       "\n",
       "       Numeric_Capacity_Outdoor Numeric_Capacity_Indoor  \\\n",
       "count                    935409                  882411   \n",
       "unique                       13                      13   \n",
       "top               Not specified           Not specified   \n",
       "freq                     852603                  763721   \n",
       "\n",
       "       Limited_Open_Outdoor_Only Limited_Open_General_Indoor  \n",
       "count                      52998                      882411  \n",
       "unique                         1                           1  \n",
       "top                          Yes                         Yes  \n",
       "freq                       52998                      882411  "
      ]
     },
     "execution_count": 25,
     "metadata": {},
     "output_type": "execute_result"
    }
   ],
   "source": [
    "restaurants.describe(include='O')"
   ]
  },
  {
   "cell_type": "code",
   "execution_count": 26,
   "id": "f951a597",
   "metadata": {},
   "outputs": [
    {
     "data": {
      "text/plain": [
       "State_Tribe_Territory                0\n",
       "County_Name                          0\n",
       "FIPS_State                           0\n",
       "FIPS_County                          0\n",
       "date                                 0\n",
       "Business_Type                        0\n",
       "Action                           32202\n",
       "order_code                           0\n",
       "Percent_Capacity_Outdoor        742518\n",
       "Percent_Capacity_Indoor         795516\n",
       "Numeric_Capacity_Outdoor        742518\n",
       "Numeric_Capacity_Indoor         795516\n",
       "Limited_Open_Outdoor_Only      1624929\n",
       "Limited_Open_General_Indoor     795516\n",
       "dtype: int64"
      ]
     },
     "execution_count": 26,
     "metadata": {},
     "output_type": "execute_result"
    }
   ],
   "source": [
    "restaurants.isna().sum()"
   ]
  },
  {
   "cell_type": "code",
   "execution_count": 27,
   "id": "cc4d0ec9",
   "metadata": {},
   "outputs": [
    {
     "data": {
      "text/plain": [
       "<AxesSubplot:xlabel='order_code,Action'>"
      ]
     },
     "execution_count": 27,
     "metadata": {},
     "output_type": "execute_result"
    },
    {
     "data": {
      "image/png": "[encoded data removed]",
      "text/plain": [
       "<Figure size 432x288 with 1 Axes>"
      ]
     },
     "metadata": {
      "needs_background": "light"
     },
     "output_type": "display_data"
    }
   ],
   "source": [
    "restaurants[['order_code', 'Action']].value_counts().plot(kind='bar')"
   ]
  },
  {
   "cell_type": "code",
   "execution_count": 28,
   "id": "bf2b1c3e",
   "metadata": {},
   "outputs": [
    {
     "data": {
      "text/plain": [
       "array([1, 5, 3, 2, 4, 6], dtype=int64)"
      ]
     },
     "execution_count": 28,
     "metadata": {},
     "output_type": "execute_result"
    }
   ],
   "source": [
    "restaurants['order_code'].unique()"
   ]
  },
  {
   "cell_type": "code",
   "execution_count": 49,
   "id": "e64e9123",
   "metadata": {},
   "outputs": [
    {
     "data": {
      "text/html": [
       "<div>\n",
       "<style scoped>\n",
       "    .dataframe tbody tr th:only-of-type {\n",
       "        vertical-align: middle;\n",
       "    }\n",
       "\n",
       "    .dataframe tbody tr th {\n",
       "        vertical-align: top;\n",
       "    }\n",
       "\n",
       "    .dataframe thead th {\n",
       "        text-align: right;\n",
       "    }\n",
       "</style>\n",
       "<table border=\"1\" class=\"dataframe\">\n",
       "  <thead>\n",
       "    <tr style=\"text-align: right;\">\n",
       "      <th></th>\n",
       "      <th>State_Tribe_Territory</th>\n",
       "      <th>County_Name</th>\n",
       "      <th>FIPS_State</th>\n",
       "      <th>FIPS_County</th>\n",
       "      <th>date</th>\n",
       "      <th>Business_Type</th>\n",
       "      <th>Action</th>\n",
       "      <th>restaurant_order</th>\n",
       "      <th>Percent_Capacity_Outdoor</th>\n",
       "      <th>Percent_Capacity_Indoor</th>\n",
       "      <th>Numeric_Capacity_Outdoor</th>\n",
       "      <th>Numeric_Capacity_Indoor</th>\n",
       "      <th>Limited_Open_Outdoor_Only</th>\n",
       "      <th>Limited_Open_General_Indoor</th>\n",
       "    </tr>\n",
       "  </thead>\n",
       "  <tbody>\n",
       "    <tr>\n",
       "      <th>0</th>\n",
       "      <td>AL</td>\n",
       "      <td>Autauga County</td>\n",
       "      <td>1</td>\n",
       "      <td>1</td>\n",
       "      <td>2020-03-15</td>\n",
       "      <td>Restaurants</td>\n",
       "      <td>No order found</td>\n",
       "      <td>0</td>\n",
       "      <td>NaN</td>\n",
       "      <td>NaN</td>\n",
       "      <td>NaN</td>\n",
       "      <td>NaN</td>\n",
       "      <td>NaN</td>\n",
       "      <td>NaN</td>\n",
       "    </tr>\n",
       "    <tr>\n",
       "      <th>1</th>\n",
       "      <td>AL</td>\n",
       "      <td>Autauga County</td>\n",
       "      <td>1</td>\n",
       "      <td>1</td>\n",
       "      <td>2020-03-16</td>\n",
       "      <td>Restaurants</td>\n",
       "      <td>No order found</td>\n",
       "      <td>0</td>\n",
       "      <td>NaN</td>\n",
       "      <td>NaN</td>\n",
       "      <td>NaN</td>\n",
       "      <td>NaN</td>\n",
       "      <td>NaN</td>\n",
       "      <td>NaN</td>\n",
       "    </tr>\n",
       "    <tr>\n",
       "      <th>2</th>\n",
       "      <td>AL</td>\n",
       "      <td>Autauga County</td>\n",
       "      <td>1</td>\n",
       "      <td>1</td>\n",
       "      <td>2020-03-17</td>\n",
       "      <td>Restaurants</td>\n",
       "      <td>No order found</td>\n",
       "      <td>0</td>\n",
       "      <td>NaN</td>\n",
       "      <td>NaN</td>\n",
       "      <td>NaN</td>\n",
       "      <td>NaN</td>\n",
       "      <td>NaN</td>\n",
       "      <td>NaN</td>\n",
       "    </tr>\n",
       "    <tr>\n",
       "      <th>3</th>\n",
       "      <td>AL</td>\n",
       "      <td>Autauga County</td>\n",
       "      <td>1</td>\n",
       "      <td>1</td>\n",
       "      <td>2020-03-18</td>\n",
       "      <td>Restaurants</td>\n",
       "      <td>No order found</td>\n",
       "      <td>0</td>\n",
       "      <td>NaN</td>\n",
       "      <td>NaN</td>\n",
       "      <td>NaN</td>\n",
       "      <td>NaN</td>\n",
       "      <td>NaN</td>\n",
       "      <td>NaN</td>\n",
       "    </tr>\n",
       "    <tr>\n",
       "      <th>83</th>\n",
       "      <td>AL</td>\n",
       "      <td>Calhoun County</td>\n",
       "      <td>1</td>\n",
       "      <td>15</td>\n",
       "      <td>2020-03-16</td>\n",
       "      <td>Restaurants</td>\n",
       "      <td>No order found</td>\n",
       "      <td>0</td>\n",
       "      <td>NaN</td>\n",
       "      <td>NaN</td>\n",
       "      <td>NaN</td>\n",
       "      <td>NaN</td>\n",
       "      <td>NaN</td>\n",
       "      <td>NaN</td>\n",
       "    </tr>\n",
       "    <tr>\n",
       "      <th>...</th>\n",
       "      <td>...</td>\n",
       "      <td>...</td>\n",
       "      <td>...</td>\n",
       "      <td>...</td>\n",
       "      <td>...</td>\n",
       "      <td>...</td>\n",
       "      <td>...</td>\n",
       "      <td>...</td>\n",
       "      <td>...</td>\n",
       "      <td>...</td>\n",
       "      <td>...</td>\n",
       "      <td>...</td>\n",
       "      <td>...</td>\n",
       "      <td>...</td>\n",
       "    </tr>\n",
       "    <tr>\n",
       "      <th>1677241</th>\n",
       "      <td>PR</td>\n",
       "      <td>Yauco Municipio</td>\n",
       "      <td>72</td>\n",
       "      <td>153</td>\n",
       "      <td>2021-08-11</td>\n",
       "      <td>Restaurants</td>\n",
       "      <td>No order found</td>\n",
       "      <td>0</td>\n",
       "      <td>NaN</td>\n",
       "      <td>NaN</td>\n",
       "      <td>NaN</td>\n",
       "      <td>NaN</td>\n",
       "      <td>NaN</td>\n",
       "      <td>NaN</td>\n",
       "    </tr>\n",
       "    <tr>\n",
       "      <th>1677242</th>\n",
       "      <td>PR</td>\n",
       "      <td>Yauco Municipio</td>\n",
       "      <td>72</td>\n",
       "      <td>153</td>\n",
       "      <td>2021-08-12</td>\n",
       "      <td>Restaurants</td>\n",
       "      <td>No order found</td>\n",
       "      <td>0</td>\n",
       "      <td>NaN</td>\n",
       "      <td>NaN</td>\n",
       "      <td>NaN</td>\n",
       "      <td>NaN</td>\n",
       "      <td>NaN</td>\n",
       "      <td>NaN</td>\n",
       "    </tr>\n",
       "    <tr>\n",
       "      <th>1677243</th>\n",
       "      <td>PR</td>\n",
       "      <td>Yauco Municipio</td>\n",
       "      <td>72</td>\n",
       "      <td>153</td>\n",
       "      <td>2021-08-13</td>\n",
       "      <td>Restaurants</td>\n",
       "      <td>No order found</td>\n",
       "      <td>0</td>\n",
       "      <td>NaN</td>\n",
       "      <td>NaN</td>\n",
       "      <td>NaN</td>\n",
       "      <td>NaN</td>\n",
       "      <td>NaN</td>\n",
       "      <td>NaN</td>\n",
       "    </tr>\n",
       "    <tr>\n",
       "      <th>1677244</th>\n",
       "      <td>PR</td>\n",
       "      <td>Yauco Municipio</td>\n",
       "      <td>72</td>\n",
       "      <td>153</td>\n",
       "      <td>2021-08-14</td>\n",
       "      <td>Restaurants</td>\n",
       "      <td>No order found</td>\n",
       "      <td>0</td>\n",
       "      <td>NaN</td>\n",
       "      <td>NaN</td>\n",
       "      <td>NaN</td>\n",
       "      <td>NaN</td>\n",
       "      <td>NaN</td>\n",
       "      <td>NaN</td>\n",
       "    </tr>\n",
       "    <tr>\n",
       "      <th>1677245</th>\n",
       "      <td>PR</td>\n",
       "      <td>Yauco Municipio</td>\n",
       "      <td>72</td>\n",
       "      <td>153</td>\n",
       "      <td>2021-08-15</td>\n",
       "      <td>Restaurants</td>\n",
       "      <td>No order found</td>\n",
       "      <td>0</td>\n",
       "      <td>NaN</td>\n",
       "      <td>NaN</td>\n",
       "      <td>NaN</td>\n",
       "      <td>NaN</td>\n",
       "      <td>NaN</td>\n",
       "      <td>NaN</td>\n",
       "    </tr>\n",
       "  </tbody>\n",
       "</table>\n",
       "<p>32202 rows × 14 columns</p>\n",
       "</div>"
      ],
      "text/plain": [
       "        State_Tribe_Territory      County_Name  FIPS_State  FIPS_County  \\\n",
       "0                          AL   Autauga County           1            1   \n",
       "1                          AL   Autauga County           1            1   \n",
       "2                          AL   Autauga County           1            1   \n",
       "3                          AL   Autauga County           1            1   \n",
       "83                         AL   Calhoun County           1           15   \n",
       "...                       ...              ...         ...          ...   \n",
       "1677241                    PR  Yauco Municipio          72          153   \n",
       "1677242                    PR  Yauco Municipio          72          153   \n",
       "1677243                    PR  Yauco Municipio          72          153   \n",
       "1677244                    PR  Yauco Municipio          72          153   \n",
       "1677245                    PR  Yauco Municipio          72          153   \n",
       "\n",
       "              date Business_Type          Action  restaurant_order  \\\n",
       "0       2020-03-15   Restaurants  No order found                 0   \n",
       "1       2020-03-16   Restaurants  No order found                 0   \n",
       "2       2020-03-17   Restaurants  No order found                 0   \n",
       "3       2020-03-18   Restaurants  No order found                 0   \n",
       "83      2020-03-16   Restaurants  No order found                 0   \n",
       "...            ...           ...             ...               ...   \n",
       "1677241 2021-08-11   Restaurants  No order found                 0   \n",
       "1677242 2021-08-12   Restaurants  No order found                 0   \n",
       "1677243 2021-08-13   Restaurants  No order found                 0   \n",
       "1677244 2021-08-14   Restaurants  No order found                 0   \n",
       "1677245 2021-08-15   Restaurants  No order found                 0   \n",
       "\n",
       "        Percent_Capacity_Outdoor Percent_Capacity_Indoor  \\\n",
       "0                            NaN                     NaN   \n",
       "1                            NaN                     NaN   \n",
       "2                            NaN                     NaN   \n",
       "3                            NaN                     NaN   \n",
       "83                           NaN                     NaN   \n",
       "...                          ...                     ...   \n",
       "1677241                      NaN                     NaN   \n",
       "1677242                      NaN                     NaN   \n",
       "1677243                      NaN                     NaN   \n",
       "1677244                      NaN                     NaN   \n",
       "1677245                      NaN                     NaN   \n",
       "\n",
       "        Numeric_Capacity_Outdoor Numeric_Capacity_Indoor  \\\n",
       "0                            NaN                     NaN   \n",
       "1                            NaN                     NaN   \n",
       "2                            NaN                     NaN   \n",
       "3                            NaN                     NaN   \n",
       "83                           NaN                     NaN   \n",
       "...                          ...                     ...   \n",
       "1677241                      NaN                     NaN   \n",
       "1677242                      NaN                     NaN   \n",
       "1677243                      NaN                     NaN   \n",
       "1677244                      NaN                     NaN   \n",
       "1677245                      NaN                     NaN   \n",
       "\n",
       "        Limited_Open_Outdoor_Only Limited_Open_General_Indoor  \n",
       "0                             NaN                         NaN  \n",
       "1                             NaN                         NaN  \n",
       "2                             NaN                         NaN  \n",
       "3                             NaN                         NaN  \n",
       "83                            NaN                         NaN  \n",
       "...                           ...                         ...  \n",
       "1677241                       NaN                         NaN  \n",
       "1677242                       NaN                         NaN  \n",
       "1677243                       NaN                         NaN  \n",
       "1677244                       NaN                         NaN  \n",
       "1677245                       NaN                         NaN  \n",
       "\n",
       "[32202 rows x 14 columns]"
      ]
     },
     "execution_count": 49,
     "metadata": {},
     "output_type": "execute_result"
    }
   ],
   "source": [
    "restaurants[restaurants['restaurant_order']==0]"
   ]
  },
  {
   "cell_type": "code",
   "execution_count": 29,
   "id": "0b4f0bad",
   "metadata": {},
   "outputs": [
    {
     "data": {
      "text/plain": [
       "array([nan, 'Curbside/carryout/delivery only',\n",
       "       'Open with social distancing/reduced seating/enhanced sanitation',\n",
       "       'Authorized to fully reopen', 'Closed'], dtype=object)"
      ]
     },
     "execution_count": 29,
     "metadata": {},
     "output_type": "execute_result"
    }
   ],
   "source": [
    "restaurants['Action'].unique()"
   ]
  },
  {
   "cell_type": "code",
   "execution_count": 30,
   "id": "aa626827",
   "metadata": {},
   "outputs": [
    {
     "data": {
      "text/plain": [
       "(State_Tribe_Territory              0\n",
       " County_Name                        0\n",
       " FIPS_State                         0\n",
       " FIPS_County                        0\n",
       " date                               0\n",
       " Business_Type                      0\n",
       " Action                         32202\n",
       " order_code                         0\n",
       " Percent_Capacity_Outdoor       32202\n",
       " Percent_Capacity_Indoor        32202\n",
       " Numeric_Capacity_Outdoor       32202\n",
       " Numeric_Capacity_Indoor        32202\n",
       " Limited_Open_Outdoor_Only      32202\n",
       " Limited_Open_General_Indoor    32202\n",
       " dtype: int64,\n",
       " 32202)"
      ]
     },
     "execution_count": 30,
     "metadata": {},
     "output_type": "execute_result"
    }
   ],
   "source": [
    "restaurants[restaurants['order_code'] == 1].isna().sum(),len(restaurants[restaurants['order_code'] == 1])"
   ]
  },
  {
   "cell_type": "code",
   "execution_count": 31,
   "id": "95ef336c",
   "metadata": {},
   "outputs": [],
   "source": [
    "restaurants['Action'] = restaurants['Action'].fillna('No order found')\n",
    "restaurants['order_code'] = restaurants['order_code'] - 1\n",
    "restaurants.rename(columns= {'order_code': 'restaurant_order'}, inplace= True)"
   ]
  },
  {
   "cell_type": "code",
   "execution_count": 32,
   "id": "69e34b61",
   "metadata": {},
   "outputs": [
    {
     "data": {
      "text/plain": [
       "Index(['State_Tribe_Territory', 'County_Name', 'FIPS_State', 'FIPS_County',\n",
       "       'date', 'Business_Type', 'Action', 'restaurant_order',\n",
       "       'Percent_Capacity_Outdoor', 'Percent_Capacity_Indoor',\n",
       "       'Numeric_Capacity_Outdoor', 'Numeric_Capacity_Indoor',\n",
       "       'Limited_Open_Outdoor_Only', 'Limited_Open_General_Indoor'],\n",
       "      dtype='object')"
      ]
     },
     "execution_count": 32,
     "metadata": {},
     "output_type": "execute_result"
    }
   ],
   "source": [
    "restaurants.columns"
   ]
  },
  {
   "cell_type": "code",
   "execution_count": 33,
   "id": "f8c680bf",
   "metadata": {},
   "outputs": [],
   "source": [
    "restaurants1 = restaurants[['State_Tribe_Territory', 'County_Name', 'FIPS_State', 'FIPS_County',\n",
    "       'date', 'Action', 'restaurant_order']]"
   ]
  },
  {
   "cell_type": "code",
   "execution_count": 34,
   "id": "2ed7c778",
   "metadata": {},
   "outputs": [
    {
     "name": "stderr",
     "output_type": "stream",
     "text": [
      "C:\\Users\\aarme\\anaconda3\\lib\\site-packages\\IPython\\core\\interactiveshell.py:3444: DtypeWarning: Columns (9) have mixed types.Specify dtype option on import or set low_memory=False.\n",
      "  exec(code_obj, self.user_global_ns, self.user_ns)\n"
     ]
    },
    {
     "data": {
      "text/html": [
       "<div>\n",
       "<style scoped>\n",
       "    .dataframe tbody tr th:only-of-type {\n",
       "        vertical-align: middle;\n",
       "    }\n",
       "\n",
       "    .dataframe tbody tr th {\n",
       "        vertical-align: top;\n",
       "    }\n",
       "\n",
       "    .dataframe thead th {\n",
       "        text-align: right;\n",
       "    }\n",
       "</style>\n",
       "<table border=\"1\" class=\"dataframe\">\n",
       "  <thead>\n",
       "    <tr style=\"text-align: right;\">\n",
       "      <th></th>\n",
       "      <th>State_Tribe_Territory</th>\n",
       "      <th>County_Name</th>\n",
       "      <th>FIPS_State</th>\n",
       "      <th>FIPS_County</th>\n",
       "      <th>date</th>\n",
       "      <th>Order_code</th>\n",
       "      <th>Stay_at_Home_Order_Recommendation</th>\n",
       "      <th>Express_Preemption</th>\n",
       "    </tr>\n",
       "  </thead>\n",
       "  <tbody>\n",
       "    <tr>\n",
       "      <th>0</th>\n",
       "      <td>AL</td>\n",
       "      <td>Autauga County</td>\n",
       "      <td>1</td>\n",
       "      <td>1</td>\n",
       "      <td>2020-03-15</td>\n",
       "      <td>7</td>\n",
       "      <td>NaN</td>\n",
       "      <td>NaN</td>\n",
       "    </tr>\n",
       "    <tr>\n",
       "      <th>1</th>\n",
       "      <td>AL</td>\n",
       "      <td>Autauga County</td>\n",
       "      <td>1</td>\n",
       "      <td>1</td>\n",
       "      <td>2020-03-16</td>\n",
       "      <td>7</td>\n",
       "      <td>NaN</td>\n",
       "      <td>NaN</td>\n",
       "    </tr>\n",
       "    <tr>\n",
       "      <th>2</th>\n",
       "      <td>AL</td>\n",
       "      <td>Autauga County</td>\n",
       "      <td>1</td>\n",
       "      <td>1</td>\n",
       "      <td>2020-03-17</td>\n",
       "      <td>7</td>\n",
       "      <td>NaN</td>\n",
       "      <td>NaN</td>\n",
       "    </tr>\n",
       "    <tr>\n",
       "      <th>3</th>\n",
       "      <td>AL</td>\n",
       "      <td>Autauga County</td>\n",
       "      <td>1</td>\n",
       "      <td>1</td>\n",
       "      <td>2020-03-18</td>\n",
       "      <td>7</td>\n",
       "      <td>NaN</td>\n",
       "      <td>NaN</td>\n",
       "    </tr>\n",
       "    <tr>\n",
       "      <th>4</th>\n",
       "      <td>AL</td>\n",
       "      <td>Autauga County</td>\n",
       "      <td>1</td>\n",
       "      <td>1</td>\n",
       "      <td>2020-03-19</td>\n",
       "      <td>7</td>\n",
       "      <td>NaN</td>\n",
       "      <td>NaN</td>\n",
       "    </tr>\n",
       "  </tbody>\n",
       "</table>\n",
       "</div>"
      ],
      "text/plain": [
       "  State_Tribe_Territory     County_Name  FIPS_State  FIPS_County       date  \\\n",
       "0                    AL  Autauga County           1            1 2020-03-15   \n",
       "1                    AL  Autauga County           1            1 2020-03-16   \n",
       "2                    AL  Autauga County           1            1 2020-03-17   \n",
       "3                    AL  Autauga County           1            1 2020-03-18   \n",
       "4                    AL  Autauga County           1            1 2020-03-19   \n",
       "\n",
       "   Order_code Stay_at_Home_Order_Recommendation Express_Preemption  \n",
       "0           7                               NaN                NaN  \n",
       "1           7                               NaN                NaN  \n",
       "2           7                               NaN                NaN  \n",
       "3           7                               NaN                NaN  \n",
       "4           7                               NaN                NaN  "
      ]
     },
     "execution_count": 34,
     "metadata": {},
     "output_type": "execute_result"
    }
   ],
   "source": [
    "homes = pd.read_csv('Stay-At-Home_Orders.csv', parse_dates= ['date'])\n",
    "homes = homes.drop(['Source_of_Action', 'URL', 'Citation'], axis= 1)\n",
    "homes.head()"
   ]
  },
  {
   "cell_type": "code",
   "execution_count": 35,
   "id": "9639ceb8",
   "metadata": {},
   "outputs": [
    {
     "data": {
      "text/html": [
       "<div>\n",
       "<style scoped>\n",
       "    .dataframe tbody tr th:only-of-type {\n",
       "        vertical-align: middle;\n",
       "    }\n",
       "\n",
       "    .dataframe tbody tr th {\n",
       "        vertical-align: top;\n",
       "    }\n",
       "\n",
       "    .dataframe thead th {\n",
       "        text-align: right;\n",
       "    }\n",
       "</style>\n",
       "<table border=\"1\" class=\"dataframe\">\n",
       "  <thead>\n",
       "    <tr style=\"text-align: right;\">\n",
       "      <th></th>\n",
       "      <th>FIPS_State</th>\n",
       "      <th>FIPS_County</th>\n",
       "      <th>Order_code</th>\n",
       "    </tr>\n",
       "  </thead>\n",
       "  <tbody>\n",
       "    <tr>\n",
       "      <th>count</th>\n",
       "      <td>1.677927e+06</td>\n",
       "      <td>1.677927e+06</td>\n",
       "      <td>1.677927e+06</td>\n",
       "    </tr>\n",
       "    <tr>\n",
       "      <th>mean</th>\n",
       "      <td>3.143582e+01</td>\n",
       "      <td>1.027046e+02</td>\n",
       "      <td>6.036095e+00</td>\n",
       "    </tr>\n",
       "    <tr>\n",
       "      <th>std</th>\n",
       "      <td>1.640763e+01</td>\n",
       "      <td>1.065462e+02</td>\n",
       "      <td>1.573799e+00</td>\n",
       "    </tr>\n",
       "    <tr>\n",
       "      <th>min</th>\n",
       "      <td>1.000000e+00</td>\n",
       "      <td>1.000000e+00</td>\n",
       "      <td>1.000000e+00</td>\n",
       "    </tr>\n",
       "    <tr>\n",
       "      <th>25%</th>\n",
       "      <td>1.900000e+01</td>\n",
       "      <td>3.500000e+01</td>\n",
       "      <td>6.000000e+00</td>\n",
       "    </tr>\n",
       "    <tr>\n",
       "      <th>50%</th>\n",
       "      <td>3.000000e+01</td>\n",
       "      <td>7.900000e+01</td>\n",
       "      <td>7.000000e+00</td>\n",
       "    </tr>\n",
       "    <tr>\n",
       "      <th>75%</th>\n",
       "      <td>4.600000e+01</td>\n",
       "      <td>1.330000e+02</td>\n",
       "      <td>7.000000e+00</td>\n",
       "    </tr>\n",
       "    <tr>\n",
       "      <th>max</th>\n",
       "      <td>7.800000e+01</td>\n",
       "      <td>8.400000e+02</td>\n",
       "      <td>7.000000e+00</td>\n",
       "    </tr>\n",
       "  </tbody>\n",
       "</table>\n",
       "</div>"
      ],
      "text/plain": [
       "         FIPS_State   FIPS_County    Order_code\n",
       "count  1.677927e+06  1.677927e+06  1.677927e+06\n",
       "mean   3.143582e+01  1.027046e+02  6.036095e+00\n",
       "std    1.640763e+01  1.065462e+02  1.573799e+00\n",
       "min    1.000000e+00  1.000000e+00  1.000000e+00\n",
       "25%    1.900000e+01  3.500000e+01  6.000000e+00\n",
       "50%    3.000000e+01  7.900000e+01  7.000000e+00\n",
       "75%    4.600000e+01  1.330000e+02  7.000000e+00\n",
       "max    7.800000e+01  8.400000e+02  7.000000e+00"
      ]
     },
     "execution_count": 35,
     "metadata": {},
     "output_type": "execute_result"
    }
   ],
   "source": [
    "homes.describe()"
   ]
  },
  {
   "cell_type": "code",
   "execution_count": 36,
   "id": "21ff001b",
   "metadata": {},
   "outputs": [
    {
     "data": {
      "text/html": [
       "<div>\n",
       "<style scoped>\n",
       "    .dataframe tbody tr th:only-of-type {\n",
       "        vertical-align: middle;\n",
       "    }\n",
       "\n",
       "    .dataframe tbody tr th {\n",
       "        vertical-align: top;\n",
       "    }\n",
       "\n",
       "    .dataframe thead th {\n",
       "        text-align: right;\n",
       "    }\n",
       "</style>\n",
       "<table border=\"1\" class=\"dataframe\">\n",
       "  <thead>\n",
       "    <tr style=\"text-align: right;\">\n",
       "      <th></th>\n",
       "      <th>State_Tribe_Territory</th>\n",
       "      <th>County_Name</th>\n",
       "      <th>Stay_at_Home_Order_Recommendation</th>\n",
       "      <th>Express_Preemption</th>\n",
       "    </tr>\n",
       "  </thead>\n",
       "  <tbody>\n",
       "    <tr>\n",
       "      <th>count</th>\n",
       "      <td>1677927</td>\n",
       "      <td>1677927</td>\n",
       "      <td>1461933</td>\n",
       "      <td>1448788</td>\n",
       "    </tr>\n",
       "    <tr>\n",
       "      <th>unique</th>\n",
       "      <td>56</td>\n",
       "      <td>1968</td>\n",
       "      <td>6</td>\n",
       "      <td>5</td>\n",
       "    </tr>\n",
       "    <tr>\n",
       "      <th>top</th>\n",
       "      <td>TX</td>\n",
       "      <td>Washington County</td>\n",
       "      <td>Advisory/Recommendation</td>\n",
       "      <td>Unknown</td>\n",
       "    </tr>\n",
       "    <tr>\n",
       "      <th>freq</th>\n",
       "      <td>131826</td>\n",
       "      <td>15570</td>\n",
       "      <td>643866</td>\n",
       "      <td>773058</td>\n",
       "    </tr>\n",
       "  </tbody>\n",
       "</table>\n",
       "</div>"
      ],
      "text/plain": [
       "       State_Tribe_Territory        County_Name  \\\n",
       "count                1677927            1677927   \n",
       "unique                    56               1968   \n",
       "top                       TX  Washington County   \n",
       "freq                  131826              15570   \n",
       "\n",
       "       Stay_at_Home_Order_Recommendation Express_Preemption  \n",
       "count                            1461933            1448788  \n",
       "unique                                 6                  5  \n",
       "top              Advisory/Recommendation            Unknown  \n",
       "freq                              643866             773058  "
      ]
     },
     "execution_count": 36,
     "metadata": {},
     "output_type": "execute_result"
    }
   ],
   "source": [
    "homes.describe(include='O')"
   ]
  },
  {
   "cell_type": "code",
   "execution_count": 37,
   "id": "55cc0159",
   "metadata": {},
   "outputs": [
    {
     "name": "stdout",
     "output_type": "stream",
     "text": [
      "1677927\n"
     ]
    },
    {
     "data": {
      "text/plain": [
       "State_Tribe_Territory                     0\n",
       "County_Name                               0\n",
       "FIPS_State                                0\n",
       "FIPS_County                               0\n",
       "date                                      0\n",
       "Order_code                                0\n",
       "Stay_at_Home_Order_Recommendation    215994\n",
       "Express_Preemption                   229139\n",
       "dtype: int64"
      ]
     },
     "execution_count": 37,
     "metadata": {},
     "output_type": "execute_result"
    }
   ],
   "source": [
    "print(len(homes))\n",
    "homes.isna().sum()"
   ]
  },
  {
   "cell_type": "code",
   "execution_count": 50,
   "id": "9fdda09c",
   "metadata": {},
   "outputs": [
    {
     "data": {
      "text/plain": [
       "array([nan, 'Mandatory for all individuals', 'Advisory/Recommendation',\n",
       "       'No order for individuals to stay home',\n",
       "       'Mandatory only for all individuals in certain areas of the jurisdiction',\n",
       "       'Mandatory only for at-risk individuals in the jurisdiction',\n",
       "       'Mandatory only for at-risk individuals in certain areas of the jurisdiction'],\n",
       "      dtype=object)"
      ]
     },
     "execution_count": 50,
     "metadata": {},
     "output_type": "execute_result"
    }
   ],
   "source": [
    "homes['Stay_at_Home_Order_Recommendation'].unique()"
   ]
  },
  {
   "cell_type": "code",
   "execution_count": 38,
   "id": "6f290f9d",
   "metadata": {},
   "outputs": [
    {
     "data": {
      "text/plain": [
       "<AxesSubplot:xlabel='Order_code,Stay_at_Home_Order_Recommendation'>"
      ]
     },
     "execution_count": 38,
     "metadata": {},
     "output_type": "execute_result"
    },
    {
     "data": {
      "image/png": "[encoded data removed]",
      "text/plain": [
       "<Figure size 432x288 with 1 Axes>"
      ]
     },
     "metadata": {
      "needs_background": "light"
     },
     "output_type": "display_data"
    }
   ],
   "source": [
    "homes[['Order_code', 'Stay_at_Home_Order_Recommendation']].value_counts().plot(kind= 'bar')"
   ]
  },
  {
   "cell_type": "code",
   "execution_count": 39,
   "id": "d436d7d3",
   "metadata": {},
   "outputs": [
    {
     "data": {
      "text/plain": [
       "<AxesSubplot:>"
      ]
     },
     "execution_count": 39,
     "metadata": {},
     "output_type": "execute_result"
    },
    {
     "data": {
      "image/png": "[encoded data removed]",
      "text/plain": [
       "<Figure size 432x288 with 1 Axes>"
      ]
     },
     "metadata": {
      "needs_background": "light"
     },
     "output_type": "display_data"
    }
   ],
   "source": [
    "homes[homes['Stay_at_Home_Order_Recommendation'].isna()==True]['date'].hist()"
   ]
  },
  {
   "cell_type": "code",
   "execution_count": 40,
   "id": "2b6a9989",
   "metadata": {},
   "outputs": [
    {
     "data": {
      "text/plain": [
       "Index(['State_Tribe_Territory', 'County_Name', 'FIPS_State', 'FIPS_County',\n",
       "       'date', 'Order_code', 'Stay_at_Home_Order_Recommendation',\n",
       "       'Express_Preemption'],\n",
       "      dtype='object')"
      ]
     },
     "execution_count": 40,
     "metadata": {},
     "output_type": "execute_result"
    }
   ],
   "source": [
    "homes.columns"
   ]
  },
  {
   "cell_type": "code",
   "execution_count": 41,
   "id": "60b7f100",
   "metadata": {},
   "outputs": [],
   "source": [
    "homes1 = homes[['State_Tribe_Territory', 'County_Name', 'FIPS_State', 'FIPS_County',\n",
    "       'date', 'Order_code', 'Stay_at_Home_Order_Recommendation']]"
   ]
  },
  {
   "cell_type": "code",
   "execution_count": 42,
   "id": "83317213",
   "metadata": {},
   "outputs": [
    {
     "data": {
      "text/html": [
       "<div>\n",
       "<style scoped>\n",
       "    .dataframe tbody tr th:only-of-type {\n",
       "        vertical-align: middle;\n",
       "    }\n",
       "\n",
       "    .dataframe tbody tr th {\n",
       "        vertical-align: top;\n",
       "    }\n",
       "\n",
       "    .dataframe thead th {\n",
       "        text-align: right;\n",
       "    }\n",
       "</style>\n",
       "<table border=\"1\" class=\"dataframe\">\n",
       "  <thead>\n",
       "    <tr style=\"text-align: right;\">\n",
       "      <th></th>\n",
       "      <th>State_Tribe_Territory</th>\n",
       "      <th>County_Name</th>\n",
       "      <th>FIPS_State</th>\n",
       "      <th>FIPS_County</th>\n",
       "      <th>date</th>\n",
       "      <th>Order_code</th>\n",
       "      <th>Stay_at_Home_Order_Recommendation</th>\n",
       "      <th>Action</th>\n",
       "      <th>restaurant_order</th>\n",
       "    </tr>\n",
       "  </thead>\n",
       "  <tbody>\n",
       "    <tr>\n",
       "      <th>0</th>\n",
       "      <td>AL</td>\n",
       "      <td>Autauga County</td>\n",
       "      <td>1</td>\n",
       "      <td>1</td>\n",
       "      <td>2020-03-15</td>\n",
       "      <td>7</td>\n",
       "      <td>NaN</td>\n",
       "      <td>No order found</td>\n",
       "      <td>0</td>\n",
       "    </tr>\n",
       "    <tr>\n",
       "      <th>1</th>\n",
       "      <td>AL</td>\n",
       "      <td>Autauga County</td>\n",
       "      <td>1</td>\n",
       "      <td>1</td>\n",
       "      <td>2020-03-16</td>\n",
       "      <td>7</td>\n",
       "      <td>NaN</td>\n",
       "      <td>No order found</td>\n",
       "      <td>0</td>\n",
       "    </tr>\n",
       "    <tr>\n",
       "      <th>2</th>\n",
       "      <td>AL</td>\n",
       "      <td>Autauga County</td>\n",
       "      <td>1</td>\n",
       "      <td>1</td>\n",
       "      <td>2020-03-17</td>\n",
       "      <td>7</td>\n",
       "      <td>NaN</td>\n",
       "      <td>No order found</td>\n",
       "      <td>0</td>\n",
       "    </tr>\n",
       "    <tr>\n",
       "      <th>3</th>\n",
       "      <td>AL</td>\n",
       "      <td>Autauga County</td>\n",
       "      <td>1</td>\n",
       "      <td>1</td>\n",
       "      <td>2020-03-18</td>\n",
       "      <td>7</td>\n",
       "      <td>NaN</td>\n",
       "      <td>No order found</td>\n",
       "      <td>0</td>\n",
       "    </tr>\n",
       "    <tr>\n",
       "      <th>4</th>\n",
       "      <td>AL</td>\n",
       "      <td>Autauga County</td>\n",
       "      <td>1</td>\n",
       "      <td>1</td>\n",
       "      <td>2020-03-19</td>\n",
       "      <td>7</td>\n",
       "      <td>NaN</td>\n",
       "      <td>Curbside/carryout/delivery only</td>\n",
       "      <td>4</td>\n",
       "    </tr>\n",
       "    <tr>\n",
       "      <th>...</th>\n",
       "      <td>...</td>\n",
       "      <td>...</td>\n",
       "      <td>...</td>\n",
       "      <td>...</td>\n",
       "      <td>...</td>\n",
       "      <td>...</td>\n",
       "      <td>...</td>\n",
       "      <td>...</td>\n",
       "      <td>...</td>\n",
       "    </tr>\n",
       "    <tr>\n",
       "      <th>1677922</th>\n",
       "      <td>VI</td>\n",
       "      <td>St. Thomas Island</td>\n",
       "      <td>78</td>\n",
       "      <td>30</td>\n",
       "      <td>2021-08-11</td>\n",
       "      <td>6</td>\n",
       "      <td>Advisory/Recommendation</td>\n",
       "      <td>Open with social distancing/reduced seating/en...</td>\n",
       "      <td>2</td>\n",
       "    </tr>\n",
       "    <tr>\n",
       "      <th>1677923</th>\n",
       "      <td>VI</td>\n",
       "      <td>St. Thomas Island</td>\n",
       "      <td>78</td>\n",
       "      <td>30</td>\n",
       "      <td>2021-08-12</td>\n",
       "      <td>6</td>\n",
       "      <td>Advisory/Recommendation</td>\n",
       "      <td>Open with social distancing/reduced seating/en...</td>\n",
       "      <td>2</td>\n",
       "    </tr>\n",
       "    <tr>\n",
       "      <th>1677924</th>\n",
       "      <td>VI</td>\n",
       "      <td>St. Thomas Island</td>\n",
       "      <td>78</td>\n",
       "      <td>30</td>\n",
       "      <td>2021-08-13</td>\n",
       "      <td>6</td>\n",
       "      <td>Advisory/Recommendation</td>\n",
       "      <td>Open with social distancing/reduced seating/en...</td>\n",
       "      <td>2</td>\n",
       "    </tr>\n",
       "    <tr>\n",
       "      <th>1677925</th>\n",
       "      <td>VI</td>\n",
       "      <td>St. Thomas Island</td>\n",
       "      <td>78</td>\n",
       "      <td>30</td>\n",
       "      <td>2021-08-14</td>\n",
       "      <td>6</td>\n",
       "      <td>Advisory/Recommendation</td>\n",
       "      <td>Open with social distancing/reduced seating/en...</td>\n",
       "      <td>2</td>\n",
       "    </tr>\n",
       "    <tr>\n",
       "      <th>1677926</th>\n",
       "      <td>VI</td>\n",
       "      <td>St. Thomas Island</td>\n",
       "      <td>78</td>\n",
       "      <td>30</td>\n",
       "      <td>2021-08-15</td>\n",
       "      <td>6</td>\n",
       "      <td>Advisory/Recommendation</td>\n",
       "      <td>Open with social distancing/reduced seating/en...</td>\n",
       "      <td>2</td>\n",
       "    </tr>\n",
       "  </tbody>\n",
       "</table>\n",
       "<p>1677927 rows × 9 columns</p>\n",
       "</div>"
      ],
      "text/plain": [
       "        State_Tribe_Territory        County_Name  FIPS_State  FIPS_County  \\\n",
       "0                          AL     Autauga County           1            1   \n",
       "1                          AL     Autauga County           1            1   \n",
       "2                          AL     Autauga County           1            1   \n",
       "3                          AL     Autauga County           1            1   \n",
       "4                          AL     Autauga County           1            1   \n",
       "...                       ...                ...         ...          ...   \n",
       "1677922                    VI  St. Thomas Island          78           30   \n",
       "1677923                    VI  St. Thomas Island          78           30   \n",
       "1677924                    VI  St. Thomas Island          78           30   \n",
       "1677925                    VI  St. Thomas Island          78           30   \n",
       "1677926                    VI  St. Thomas Island          78           30   \n",
       "\n",
       "              date  Order_code Stay_at_Home_Order_Recommendation  \\\n",
       "0       2020-03-15           7                               NaN   \n",
       "1       2020-03-16           7                               NaN   \n",
       "2       2020-03-17           7                               NaN   \n",
       "3       2020-03-18           7                               NaN   \n",
       "4       2020-03-19           7                               NaN   \n",
       "...            ...         ...                               ...   \n",
       "1677922 2021-08-11           6           Advisory/Recommendation   \n",
       "1677923 2021-08-12           6           Advisory/Recommendation   \n",
       "1677924 2021-08-13           6           Advisory/Recommendation   \n",
       "1677925 2021-08-14           6           Advisory/Recommendation   \n",
       "1677926 2021-08-15           6           Advisory/Recommendation   \n",
       "\n",
       "                                                    Action  restaurant_order  \n",
       "0                                           No order found                 0  \n",
       "1                                           No order found                 0  \n",
       "2                                           No order found                 0  \n",
       "3                                           No order found                 0  \n",
       "4                          Curbside/carryout/delivery only                 4  \n",
       "...                                                    ...               ...  \n",
       "1677922  Open with social distancing/reduced seating/en...                 2  \n",
       "1677923  Open with social distancing/reduced seating/en...                 2  \n",
       "1677924  Open with social distancing/reduced seating/en...                 2  \n",
       "1677925  Open with social distancing/reduced seating/en...                 2  \n",
       "1677926  Open with social distancing/reduced seating/en...                 2  \n",
       "\n",
       "[1677927 rows x 9 columns]"
      ]
     },
     "execution_count": 42,
     "metadata": {},
     "output_type": "execute_result"
    }
   ],
   "source": [
    "reg_df1 = homes1.merge(restaurants1, on = ['State_Tribe_Territory', 'County_Name', 'FIPS_State', 'FIPS_County', 'date'])\n",
    "reg_df1"
   ]
  },
  {
   "cell_type": "code",
   "execution_count": 43,
   "id": "799d4a9d",
   "metadata": {},
   "outputs": [
    {
     "data": {
      "text/plain": [
       "Index(['State_Tribe_Territory', 'County_Name', 'FIPS_State', 'FIPS_County',\n",
       "       'date', 'Order_code', 'Stay_at_Home_Order_Recommendation', 'Action',\n",
       "       'restaurant_order', 'General_GB_order_group', 'General_GB_order_code'],\n",
       "      dtype='object')"
      ]
     },
     "execution_count": 43,
     "metadata": {},
     "output_type": "execute_result"
    }
   ],
   "source": [
    "reg_df1 = reg_df1.merge(gatherings1, on = ['State_Tribe_Territory', 'County_Name', 'FIPS_State', 'FIPS_County', 'date'], suffixes= ('_home', '_gatherings'))\n",
    "reg_df1.columns"
   ]
  },
  {
   "cell_type": "code",
   "execution_count": 44,
   "id": "5d4554f9",
   "metadata": {},
   "outputs": [],
   "source": [
    "reg_df1 = reg_df1.merge(masks1, on = ['State_Tribe_Territory', 'County_Name', 'FIPS_State', 'FIPS_County', 'date'], suffixes= ('_restaurants', '_masks') )"
   ]
  },
  {
   "cell_type": "code",
   "execution_count": 45,
   "id": "b68b3df9",
   "metadata": {},
   "outputs": [
    {
     "data": {
      "text/plain": [
       "Index(['State_Tribe_Territory', 'County_Name', 'FIPS_State', 'FIPS_County',\n",
       "       'date', 'Order_code', 'Stay_at_Home_Order_Recommendation', 'Action',\n",
       "       'restaurant_order', 'General_GB_order_group', 'General_GB_order_code',\n",
       "       'mask_order'],\n",
       "      dtype='object')"
      ]
     },
     "execution_count": 45,
     "metadata": {},
     "output_type": "execute_result"
    }
   ],
   "source": [
    "reg_df1.columns"
   ]
  },
  {
   "cell_type": "code",
   "execution_count": 46,
   "id": "dfe2c043",
   "metadata": {},
   "outputs": [
    {
     "data": {
      "text/plain": [
       "(1593869, 12)"
      ]
     },
     "execution_count": 46,
     "metadata": {},
     "output_type": "execute_result"
    }
   ],
   "source": [
    "reg_df1.shape"
   ]
  },
  {
   "cell_type": "code",
   "execution_count": 56,
   "id": "d557a1aa",
   "metadata": {},
   "outputs": [
    {
     "data": {
      "text/plain": [
       "State_Tribe_Territory                        object\n",
       "County_Name                                  object\n",
       "FIPS_State                                    int64\n",
       "FIPS_County                                   int64\n",
       "date                                 datetime64[ns]\n",
       "Order_code                                    int64\n",
       "Stay_at_Home_Order_Recommendation            object\n",
       "Action                                       object\n",
       "restaurant_order                              int64\n",
       "General_GB_order_group                       object\n",
       "General_GB_order_code                         int64\n",
       "mask_order                                    int64\n",
       "dtype: object"
      ]
     },
     "execution_count": 56,
     "metadata": {},
     "output_type": "execute_result"
    }
   ],
   "source": [
    "reg_df1.dtypes"
   ]
  },
  {
   "cell_type": "code",
   "execution_count": 57,
   "id": "bba507c0",
   "metadata": {},
   "outputs": [],
   "source": [
    "reg_df1.to_csv('regulations1.csv')"
   ]
  },
  {
   "cell_type": "code",
   "execution_count": 17,
   "id": "2e7644b5",
   "metadata": {},
   "outputs": [
    {
     "data": {
      "text/plain": [
       "0          Mandatory for all individuals\n",
       "1          Mandatory for all individuals\n",
       "2          Mandatory for all individuals\n",
       "3          Mandatory for all individuals\n",
       "4          Mandatory for all individuals\n",
       "                       ...              \n",
       "1593864          Advisory/Recommendation\n",
       "1593865          Advisory/Recommendation\n",
       "1593866          Advisory/Recommendation\n",
       "1593867          Advisory/Recommendation\n",
       "1593868          Advisory/Recommendation\n",
       "Name: Stay_at_Home_Order_Recommendation, Length: 1593869, dtype: object"
      ]
     },
     "execution_count": 17,
     "metadata": {},
     "output_type": "execute_result"
    }
   ],
   "source": [
    "reg_df['Stay_at_Home_Order_Recommendation']"
   ]
  },
  {
   "cell_type": "code",
   "execution_count": null,
   "id": "1ea8bf92",
   "metadata": {},
   "outputs": [],
   "source": []
  }
 ],
 "metadata": {
  "kernelspec": {
   "display_name": "Python 3 (ipykernel)",
   "language": "python",
   "name": "python3"
  },
  "language_info": {
   "codemirror_mode": {
    "name": "ipython",
    "version": 3
   },
   "file_extension": ".py",
   "mimetype": "text/x-python",
   "name": "python",
   "nbconvert_exporter": "python",
   "pygments_lexer": "ipython3",
   "version": "3.9.7"
  }
 },
 "nbformat": 4,
 "nbformat_minor": 5
}
